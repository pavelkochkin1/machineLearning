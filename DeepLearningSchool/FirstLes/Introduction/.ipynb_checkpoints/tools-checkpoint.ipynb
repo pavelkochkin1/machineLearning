{
 "cells": [
  {
   "cell_type": "code",
   "execution_count": 2,
   "metadata": {},
   "outputs": [
    {
     "name": "stdout",
     "output_type": "stream",
     "text": [
      "tools.ipynb\n"
     ]
    }
   ],
   "source": [
    "# посмотреть что в директории\n",
    "!ls"
   ]
  },
  {
   "cell_type": "code",
   "execution_count": 5,
   "metadata": {},
   "outputs": [
    {
     "name": "stdout",
     "output_type": "stream",
     "text": [
      "/d/machineLearning/DeepLearningSchool/FirstCourse/Introduction\n"
     ]
    }
   ],
   "source": [
    "# выведем путь текущей директории\n",
    "!pwd"
   ]
  },
  {
   "cell_type": "code",
   "execution_count": 6,
   "metadata": {},
   "outputs": [
    {
     "name": "stderr",
     "output_type": "stream",
     "text": [
      "\"torch\" ­Ґ пў«пҐвбп ў­гваҐ­­Ґ© Ё«Ё ў­Ґи­Ґ©\n",
      "Є®¬ ­¤®©, ЁбЇ®«­пҐ¬®© Їа®Ја ¬¬®© Ё«Ё Ї ЄҐв­л¬ д ©«®¬.\n"
     ]
    },
    {
     "name": "stdout",
     "output_type": "stream",
     "text": [
      "hello\n",
      "tools.ipynb\n",
      "wordl\n"
     ]
    }
   ],
   "source": [
    "# создадим пустой файл\n",
    "!torch test-file\n",
    "# пробел в имени -> создадутся два файла \n",
    "!touch hello wordl\n",
    "\n",
    "# посмотрим что получилось\n",
    "!ls"
   ]
  },
  {
   "cell_type": "code",
   "execution_count": 8,
   "metadata": {},
   "outputs": [
    {
     "name": "stdout",
     "output_type": "stream",
     "text": [
      "hello\n",
      "tools.ipynb\n"
     ]
    }
   ],
   "source": [
    "# удаление файлов\n",
    "!rm wordl\n",
    "!ls"
   ]
  },
  {
   "cell_type": "code",
   "execution_count": 9,
   "metadata": {},
   "outputs": [],
   "source": [
    "# новая директория \n",
    "!mkdir please_come_here"
   ]
  },
  {
   "cell_type": "code",
   "execution_count": 10,
   "metadata": {},
   "outputs": [
    {
     "name": "stdout",
     "output_type": "stream",
     "text": [
      "hello\n",
      "please_come_here\n",
      "tools.ipynb\n"
     ]
    }
   ],
   "source": [
    "!ls"
   ]
  },
  {
   "cell_type": "code",
   "execution_count": 11,
   "metadata": {},
   "outputs": [
    {
     "name": "stdout",
     "output_type": "stream",
     "text": [
      "total 4\n",
      "drwxr-xr-x 1 kochk 197609    0 Feb  7 15:13 .\n",
      "drwxr-xr-x 1 kochk 197609    0 Feb  7 13:21 ..\n",
      "drwxr-xr-x 1 kochk 197609    0 Feb  7 13:46 .ipynb_checkpoints\n",
      "-rw-r--r-- 1 kochk 197609    0 Feb  7 15:11 hello\n",
      "drwxr-xr-x 1 kochk 197609    0 Feb  7 15:13 please_come_here\n",
      "-rw-r--r-- 1 kochk 197609 2509 Feb  7 15:12 tools.ipynb\n"
     ]
    }
   ],
   "source": [
    "# Покажем больше информации и отобразим скрытые файлы\n",
    "!ls -al\n",
    "# Первое слово - команда, а второе - аргумент"
   ]
  },
  {
   "cell_type": "code",
   "execution_count": 12,
   "metadata": {
    "scrolled": true
   },
   "outputs": [
    {
     "name": "stdout",
     "output_type": "stream",
     "text": [
      "/d/machineLearning/DeepLearningSchool/FirstCourse/Introduction\n",
      "/d/machineLearning/DeepLearningSchool/FirstCourse/Introduction\n"
     ]
    }
   ],
   "source": [
    "# переход в другую директорию команда cd\n",
    "!pwd\n",
    "!cd please_come_here\n",
    "!pwd"
   ]
  },
  {
   "cell_type": "markdown",
   "metadata": {},
   "source": [
    "! - создает оболочку в своей директории\n",
    "% - работает "
   ]
  },
  {
   "cell_type": "code",
   "execution_count": 13,
   "metadata": {},
   "outputs": [
    {
     "name": "stdout",
     "output_type": "stream",
     "text": [
      "/d/machineLearning/DeepLearningSchool/FirstCourse/Introduction\n",
      "D:\\machineLearning\\DeepLearningSchool\\FirstCourse\\Introduction\\please_come_here\n",
      "/d/machineLearning/DeepLearningSchool/FirstCourse/Introduction/please_come_here\n"
     ]
    }
   ],
   "source": [
    "!pwd\n",
    "%cd please_come_here\n",
    "!pwd"
   ]
  },
  {
   "cell_type": "code",
   "execution_count": 14,
   "metadata": {},
   "outputs": [
    {
     "name": "stdout",
     "output_type": "stream",
     "text": [
      "C:\\Users\\kochk\n",
      "/c/Users/kochk\n"
     ]
    }
   ],
   "source": [
    "%cd\n",
    "!pwd"
   ]
  },
  {
   "cell_type": "code",
   "execution_count": 15,
   "metadata": {
    "scrolled": true
   },
   "outputs": [
    {
     "name": "stdout",
     "output_type": "stream",
     "text": [
      "/c/Users/kochk\n"
     ]
    },
    {
     "name": "stderr",
     "output_type": "stream",
     "text": [
      "pwd: ignoring non-option arguments\n"
     ]
    },
    {
     "name": "stdout",
     "output_type": "stream",
     "text": [
      "/c/Users/kochk"
     ]
    },
    {
     "name": "stderr",
     "output_type": "stream",
     "text": [
      "‘ЁбвҐ¬Ґ ­Ґ г¤ Ґвбп ­ ©вЁ гЄ § ­­л© Їгвм.\n"
     ]
    },
    {
     "name": "stdout",
     "output_type": "stream",
     "text": [
      "\n",
      "/c/Users/kochk\n"
     ]
    }
   ],
   "source": [
    "# Можно выполнить несколько команд последовательно:\n",
    "# с помощью символа ; - для безусловного последовательного выполнения команд, они выполнятся последовательно одна за другой:\n",
    "!pwd; cd please_come_here; pwd\n",
    "\n",
    "# с помощью символа && - при этом вторая (и последующая) команда выполнится только в случае успешного выполнения первой (предыдущей):\n",
    "!pwd && cd please_come_here && pwd\n",
    "\n",
    "# с помощью символа || - при этом вторая (и последующая) команда выполнится только в случае неуспешного выполнения первой (предыдущей):\n",
    "!pwd || cd please_come_here && pwd"
   ]
  },
  {
   "cell_type": "markdown",
   "metadata": {},
   "source": [
    "# Запись и чтение в файлы"
   ]
  },
  {
   "cell_type": "code",
   "execution_count": 17,
   "metadata": {},
   "outputs": [
    {
     "name": "stdout",
     "output_type": "stream",
     "text": [
      "'Sample text'\n"
     ]
    }
   ],
   "source": [
    "# вывести в консоль\n",
    "!echo 'Sample text'"
   ]
  },
  {
   "cell_type": "code",
   "execution_count": 18,
   "metadata": {},
   "outputs": [],
   "source": [
    "# вместо консоли отправить в файл\n",
    "!echo 'London is the capital of Great Britain' >> English.txt"
   ]
  },
  {
   "cell_type": "code",
   "execution_count": 19,
   "metadata": {},
   "outputs": [
    {
     "name": "stdout",
     "output_type": "stream",
     "text": [
      "'London is the capital of Great Britain' \n"
     ]
    }
   ],
   "source": [
    "# прочитать файл и вывести в консоль\n",
    "!cat English.txt"
   ]
  },
  {
   "cell_type": "markdown",
   "metadata": {},
   "source": [
    "# Скачивание из интернета"
   ]
  },
  {
   "cell_type": "code",
   "execution_count": 20,
   "metadata": {},
   "outputs": [
    {
     "name": "stderr",
     "output_type": "stream",
     "text": [
      "  % Total    % Received % Xferd  Average Speed   Time    Time     Time  Current\n",
      "                                 Dload  Upload   Total   Spent    Left  Speed\n",
      "\n",
      "  0     0    0     0    0     0      0      0 --:--:-- --:--:-- --:--:--     0\n",
      "  0     0    0     0    0     0      0      0 --:--:-- --:--:-- --:--:--     0\n",
      "100  1256  100  1256    0     0   1256      0  0:00:01 --:--:--  0:00:01  4739\n"
     ]
    },
    {
     "name": "stdout",
     "output_type": "stream",
     "text": [
      "3D Objects\n",
      "AppData\n",
      "Application Data\n",
      "Contacts\n",
      "Cookies\n",
      "Desktop\n",
      "Documents\n",
      "Downloads\n",
      "Dropbox\n",
      "English.txt\n",
      "Favorites\n",
      "Links\n",
      "Local Settings\n",
      "MicrosoftEdgeBackups\n",
      "Music\n",
      "NTUSER.DAT\n",
      "NTUSER.DAT{b64cc1c7-117d-11ea-b435-b068e680a7e8}.TM.blf\n",
      "NTUSER.DAT{b64cc1c7-117d-11ea-b435-b068e680a7e8}.TMContainer00000000000000000001.regtrans-ms\n",
      "NTUSER.DAT{b64cc1c7-117d-11ea-b435-b068e680a7e8}.TMContainer00000000000000000002.regtrans-ms\n",
      "NetHood\n",
      "OneDrive\n",
      "Pictures\n",
      "PrintHood\n",
      "Recent\n",
      "Saved Games\n",
      "Searches\n",
      "SendTo\n",
      "Videos\n",
      "example-com.html\n",
      "ntuser.dat.LOG1\n",
      "ntuser.dat.LOG2\n",
      "ntuser.ini\n",
      "spicetify-cli\n",
      "РњРѕРё РґРѕРєСѓРјРµРЅС‚С‹\n",
      "РЁР°Р±Р»РѕРЅС‹\n",
      "РіР»Р°РІРЅРѕРµ РјРµРЅСЋ\n",
      "<!doctype html>\n",
      "<html>\n",
      "<head>\n",
      "    <title>Example Domain</title>\n",
      "\n",
      "    <meta charset=\"utf-8\" />\n",
      "    <meta http-equiv=\"Content-type\" content=\"text/html; charset=utf-8\" />\n",
      "    <meta name=\"viewport\" content=\"width=device-width, initial-scale=1\" />\n",
      "    <style type=\"text/css\">\n",
      "    body {\n",
      "        background-color: #f0f0f2;\n",
      "        margin: 0;\n",
      "        padding: 0;\n",
      "        font-family: -apple-system, system-ui, BlinkMacSystemFont, \"Segoe UI\", \"Open Sans\", \"Helvetica Neue\", Helvetica, Arial, sans-serif;\n",
      "        \n",
      "    }\n",
      "    div {\n",
      "        width: 600px;\n",
      "        margin: 5em auto;\n",
      "        padding: 2em;\n",
      "        background-color: #fdfdff;\n",
      "        border-radius: 0.5em;\n",
      "        box-shadow: 2px 3px 7px 2px rgba(0,0,0,0.02);\n",
      "    }\n",
      "    a:link, a:visited {\n",
      "        color: #38488f;\n",
      "        text-decoration: none;\n",
      "    }\n",
      "    @media (max-width: 700px) {\n",
      "        div {\n",
      "            margin: 0 auto;\n",
      "            width: auto;\n",
      "        }\n",
      "    }\n",
      "    </style>    \n",
      "</head>\n",
      "\n",
      "<body>\n",
      "<div>\n",
      "    <h1>Example Domain</h1>\n",
      "    <p>This domain is for use in illustrative examples in documents. You may use this\n",
      "    domain in literature without prior coordination or asking for permission.</p>\n",
      "    <p><a href=\"https://www.iana.org/domains/example\">More information...</a></p>\n",
      "</div>\n",
      "</body>\n",
      "</html>\n"
     ]
    }
   ],
   "source": [
    "# сохраняем страницу по адресу\n",
    "\n",
    "!curl example.com >> example-com.html\n",
    "!ls\n",
    "!cat example-com.html"
   ]
  },
  {
   "cell_type": "code",
   "execution_count": 21,
   "metadata": {},
   "outputs": [
    {
     "name": "stdout",
     "output_type": "stream",
     "text": [
      "/c/Users/kochk\n"
     ]
    }
   ],
   "source": [
    "!pwd"
   ]
  },
  {
   "cell_type": "code",
   "execution_count": 24,
   "metadata": {},
   "outputs": [
    {
     "name": "stdout",
     "output_type": "stream",
     "text": [
      "D:\\machineLearning\\DeepLearningSchool\\FirstCourse\\Introduction\n"
     ]
    }
   ],
   "source": [
    "%cd D:\\machineLearning\\DeepLearningSchool\\FirstCourse\\Introduction"
   ]
  },
  {
   "cell_type": "code",
   "execution_count": 29,
   "metadata": {},
   "outputs": [
    {
     "name": "stderr",
     "output_type": "stream",
     "text": [
      "\"ncal\" ­Ґ пў«пҐвбп ў­гваҐ­­Ґ© Ё«Ё ў­Ґи­Ґ©\n",
      "Є®¬ ­¤®©, ЁбЇ®«­пҐ¬®© Їа®Ја ¬¬®© Ё«Ё Ї ЄҐв­л¬ д ©«®¬.\n"
     ]
    }
   ],
   "source": [
    "!ncal 2020"
   ]
  },
  {
   "cell_type": "code",
   "execution_count": null,
   "metadata": {},
   "outputs": [],
   "source": []
  }
 ],
 "metadata": {
  "kernelspec": {
   "display_name": "Python 3",
   "language": "python",
   "name": "python3"
  },
  "language_info": {
   "codemirror_mode": {
    "name": "ipython",
    "version": 3
   },
   "file_extension": ".py",
   "mimetype": "text/x-python",
   "name": "python",
   "nbconvert_exporter": "python",
   "pygments_lexer": "ipython3",
   "version": "3.8.5"
  }
 },
 "nbformat": 4,
 "nbformat_minor": 4
}
