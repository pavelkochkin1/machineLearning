{
 "cells": [
  {
   "cell_type": "markdown",
   "metadata": {
    "colab_type": "text",
    "id": "zqPnyO9_YJ8t"
   },
   "source": [
    "---"
   ]
  },
  {
   "cell_type": "markdown",
   "metadata": {
    "colab_type": "text",
    "id": "vcnGdgw_YJ8u"
   },
   "source": [
    "<h2 style=\"text-align: center;\"><b>PyTorch. Основы: синтаксис, torch.cuda и torch.autograd</b></h2>"
   ]
  },
  {
   "cell_type": "markdown",
   "metadata": {
    "colab_type": "text",
    "id": "-Iv1eX2mYJ8v"
   },
   "source": [
    "<p style=\"align: center;\"><img src=\"https://raw.githubusercontent.com/pytorch/pytorch/master/docs/source/_static/img/pytorch-logo-dark.png\", width=400, height=300></p>"
   ]
  },
  {
   "cell_type": "markdown",
   "metadata": {},
   "source": [
    "---"
   ]
  },
  {
   "cell_type": "code",
   "execution_count": 2,
   "metadata": {
    "colab": {},
    "colab_type": "code",
    "id": "RtyozNmmYJ89"
   },
   "outputs": [],
   "source": [
    "import torch\n",
    "import matplotlib.pyplot as plt"
   ]
  },
  {
   "cell_type": "markdown",
   "metadata": {
    "colab_type": "text",
    "id": "ny4-Qi2wYJ-6"
   },
   "source": [
    "### Задача 1"
   ]
  },
  {
   "cell_type": "markdown",
   "metadata": {
    "colab_type": "text",
    "id": "IWxlFq0bYJ-_"
   },
   "source": [
    "1). Создайте два вещественных тензора: `a` размером (3, 4) и `b` размером (12,)   \n",
    "2). Создайте тензор `c`, являющийся тензором `b`, но размера (2, 2, 3)  \n",
    "3). Выведите первый столбец матрицы `a` с помощью индексации"
   ]
  },
  {
   "cell_type": "code",
   "execution_count": 3,
   "metadata": {
    "colab": {},
    "colab_type": "code",
    "id": "3oxZuk3yYJ_A"
   },
   "outputs": [],
   "source": [
    "# Ваш код здесь"
   ]
  },
  {
   "cell_type": "code",
   "execution_count": 4,
   "metadata": {},
   "outputs": [
    {
     "name": "stdout",
     "output_type": "stream",
     "text": [
      "tensor([[0., 0., 0., 0.],\n",
      "        [0., 0., 0., 0.],\n",
      "        [0., 0., 0., 0.]]) tensor([9.8265e-39, 8.9082e-39, 1.0286e-38, 8.9082e-39, 8.9082e-39, 9.9184e-39,\n",
      "        9.0919e-39, 9.9184e-39, 1.0286e-38, 1.0194e-38, 1.0469e-38, 1.0010e-38])\n",
      "tensor([[[9.8265e-39, 8.9082e-39, 1.0286e-38],\n",
      "         [8.9082e-39, 8.9082e-39, 9.9184e-39]],\n",
      "\n",
      "        [[9.0919e-39, 9.9184e-39, 1.0286e-38],\n",
      "         [1.0194e-38, 1.0469e-38, 1.0010e-38]]])\n",
      "tensor([0., 0., 0., 0.])\n"
     ]
    }
   ],
   "source": [
    "a = torch.FloatTensor(3, 4)\n",
    "b = torch.FloatTensor(12,)\n",
    "print(a, b)\n",
    "\n",
    "c = b.view(2, 2, 3)\n",
    "print(c)\n",
    "\n",
    "print(a[0, :])"
   ]
  },
  {
   "cell_type": "markdown",
   "metadata": {
    "colab_type": "text",
    "id": "D2IP_FrKYKAA"
   },
   "source": [
    "### Задача 2"
   ]
  },
  {
   "cell_type": "markdown",
   "metadata": {
    "colab_type": "text",
    "id": "tBZFbSYQYKAA"
   },
   "source": [
    "1). Создайте два вещественных тензора: `a` размером (5, 2) и `b` размером (1,10)   \n",
    "2). Создайте тензор `c`, являющийся тензором `b`, но размера (5, 2)  \n",
    "3). Произведите все арифметические операции с тензорами `a` и `c`"
   ]
  },
  {
   "cell_type": "code",
   "execution_count": 5,
   "metadata": {
    "colab": {},
    "colab_type": "code",
    "id": "hzs2bH3GYKAB"
   },
   "outputs": [],
   "source": [
    "# Ваш код здесь"
   ]
  },
  {
   "cell_type": "code",
   "execution_count": 8,
   "metadata": {},
   "outputs": [
    {
     "name": "stdout",
     "output_type": "stream",
     "text": [
      "tensor([[1.0286e-38, 1.0653e-38],\n",
      "        [1.0194e-38, 8.4490e-39],\n",
      "        [1.0469e-38, 9.3674e-39],\n",
      "        [9.9184e-39, 8.7245e-39],\n",
      "        [9.2755e-39, 8.9082e-39]])\n",
      "tensor([[0., 0.],\n",
      "        [0., 0.],\n",
      "        [0., 0.],\n",
      "        [0., 0.],\n",
      "        [0., 0.]])\n",
      "tensor([[1.0286e-38, 1.0653e-38],\n",
      "        [1.0194e-38, 8.4490e-39],\n",
      "        [1.0469e-38, 9.3674e-39],\n",
      "        [9.9184e-39, 8.7245e-39],\n",
      "        [9.2755e-39, 8.9082e-39]])\n",
      "tensor([[1.0286e-38, 1.0653e-38],\n",
      "        [1.0194e-38, 8.4490e-39],\n",
      "        [1.0469e-38, 9.3674e-39],\n",
      "        [9.9184e-39, 8.7245e-39],\n",
      "        [9.2755e-39, 8.9082e-39]])\n",
      "tensor([[0., 0.],\n",
      "        [0., 0.],\n",
      "        [0., 0.],\n",
      "        [0., 0.],\n",
      "        [0., 0.]])\n"
     ]
    }
   ],
   "source": [
    "a = torch.FloatTensor(5, 2)\n",
    "b = torch.FloatTensor(1, 10)\n",
    "print(a)\n",
    "\n",
    "c = b.view(5, 2)\n",
    "print(c)\n",
    "\n",
    "print(a + c)\n",
    "print(a.sub(c))\n",
    "print(a * c)"
   ]
  },
  {
   "cell_type": "markdown",
   "metadata": {
    "colab_type": "text",
    "id": "rIaroFO6YKBT"
   },
   "source": [
    "### Задача 3"
   ]
  },
  {
   "cell_type": "markdown",
   "metadata": {
    "colab_type": "text",
    "id": "GfLHVvKvYKBT"
   },
   "source": [
    "1). Создайте тензор *целых чисел* `images` размерности (100, 200, 200, 3) (можно интерпретировать это как 100 картинок размера 200х200 с тремя цветовыми каналами, то есть 100 цветных изображений 200х200). Заполните его нулями  \n",
    "\n",
    "2). Сделайте так, чтобы у $i$-ой по порядку картинки была нарисована белая полоса толщиной два пикселя в строках, которые соответствуют номеру картинки. Например, у 3-ей по порядку картинки белая полоска будет занимать 6 и 7 строки, у 99 -- 198 и 199. Сделать белую строку можно, записав в ячейки тензора число 255 (по всем трём каналам). Выведите пару примеров с помощоью `pylot`  \n",
    "\n",
    "3). Посчитайте среднее тензора `images` по 1-ой оси (по сути - средняя картинка), умножьте полученный тензор на 70. Нарисуйте с помощью `pyplot`, должна получиться серая картинка (при взятии среднего нужно привести тензор к float с помощью `.float()`, при отрисовке обратно к int с помощью `.int()`)"
   ]
  },
  {
   "cell_type": "code",
   "execution_count": 9,
   "metadata": {
    "colab": {},
    "colab_type": "code",
    "id": "pZVGHEQQYKBU"
   },
   "outputs": [],
   "source": [
    "# Ваш код здесь"
   ]
  },
  {
   "cell_type": "code",
   "execution_count": 12,
   "metadata": {},
   "outputs": [
    {
     "data": {
      "image/png": "[encoded data removed]",
      "text/plain": [
       "<Figure size 432x288 with 1 Axes>"
      ]
     },
     "metadata": {
      "needs_background": "light"
     },
     "output_type": "display_data"
    }
   ],
   "source": [
    "images = torch.IntTensor(100, 200, 200, 3).zero_()\n",
    "\n",
    "for i in range(images.shape[0]):\n",
    "    images[i, 2*i:2*i+2, :, :] = 255\n",
    "\n",
    "plt.imshow(images[10].numpy());"
   ]
  },
  {
   "cell_type": "code",
   "execution_count": 13,
   "metadata": {},
   "outputs": [
    {
     "data": {
      "image/png": "[encoded data removed]",
      "text/plain": [
       "<Figure size 432x288 with 1 Axes>"
      ]
     },
     "metadata": {
      "needs_background": "light"
     },
     "output_type": "display_data"
    }
   ],
   "source": [
    "mean_image = images.float().mean(dim=0) * 70\n",
    "plt.imshow(mean_image.int());"
   ]
  },
  {
   "cell_type": "markdown",
   "metadata": {
    "colab_type": "text",
    "id": "1ALNkrzMYKCY"
   },
   "source": [
    "### Задача 4"
   ]
  },
  {
   "cell_type": "markdown",
   "metadata": {
    "colab_type": "text",
    "id": "7-KS81rUYKCY"
   },
   "source": [
    "Напишите функцию `forward_pass(X, w)` ($w_0$ входит в $w$) для одного нейрона (с **сигмоидой**) с помощью PyTorch:"
   ]
  },
  {
   "cell_type": "code",
   "execution_count": 103,
   "metadata": {
    "colab": {},
    "colab_type": "code",
    "id": "vkaIwpn6YKCY"
   },
   "outputs": [],
   "source": [
    "def forward_pass(X, w):\n",
    "    # Ваш код здесь"
   ]
  },
  {
   "cell_type": "code",
   "execution_count": 101,
   "metadata": {},
   "outputs": [],
   "source": [
    "def forward_pass(X, w):\n",
    "    return torch.sigmoid(X @ w)"
   ]
  },
  {
   "cell_type": "code",
   "execution_count": 102,
   "metadata": {
    "colab": {},
    "colab_type": "code",
    "id": "VyqlDItxYKCZ",
    "outputId": "87ae60cb-715b-456e-b92e-992ea55db795"
   },
   "outputs": [
    {
     "name": "stdout",
     "output_type": "stream",
     "text": [
      "result: tensor([[1.0000],\n",
      "        [0.9985],\n",
      "        [0.0474]])\n"
     ]
    }
   ],
   "source": [
    "X = torch.FloatTensor([[-5, 5], [2, 3], [1, -1]])\n",
    "w = torch.FloatTensor([[-0.5], [2.5]])\n",
    "result = forward_pass(X, w)\n",
    "print('result: {}'.format(result))"
   ]
  },
  {
   "cell_type": "markdown",
   "metadata": {
    "colab_type": "text",
    "id": "uT9rDk5RYKCa"
   },
   "source": [
    "Должно получиться: \n",
    "\n",
    "|variable|value|\n",
    "|-|-|\n",
    "|**X**|torch.FloatTensor([[-5, 5], [15, 20], [100, -700]])|\n",
    "|**w**|torch.FloatTensor([[-0.5], [150]])|\n",
    "|**result**|torch.FloatTensor([[1.0000], [0.9985], [0.0474]])|   "
   ]
  },
  {
   "cell_type": "markdown",
   "metadata": {
    "colab_type": "text",
    "id": "oQnhq5ZdYKCu"
   },
   "source": [
    "### Задача 5"
   ]
  },
  {
   "cell_type": "markdown",
   "metadata": {
    "colab_type": "text",
    "id": "UB95BhgTYKCu"
   },
   "source": [
    "- Перейдите на [Google Colaboratory](https://colab.research.google.com), чтобы работать с GPU. Загрузите туда этот ноутбук (`Upload notebook`)\n",
    "- В Colab нажмите в меню сверху: `Runtime` -> `Change Runtime Type` -> `GPU`, где изначально стоит `None`\n",
    "- Объявите тензор `a` размера (2, 3, 4) и тензор `b` размера (1, 8, 3) на GPU, иницилизируйте их случайно равномерно (`.uniform_()`)\n",
    "- Затем измените форму тензора `b`, чтобы она совпадала с формой тензора `a`, получите тензор `c`  \n",
    "- Переместите `c` на CPU, переместите `a` на CPU  \n",
    "- Оберните их в `Variable()`\n",
    "- Объявите тензор `L = torch.mean((c - a) `**` 2)` и посчитайте градиент `L` по `c` ( то есть $\\frac{\\partial{L}}{\\partial{c}})$\n",
    "- Выведите градиент `L` по `c`"
   ]
  },
  {
   "cell_type": "code",
   "execution_count": 0,
   "metadata": {
    "colab": {},
    "colab_type": "code",
    "id": "WESOm5TCYKCv"
   },
   "outputs": [],
   "source": [
    "# Ваш код здесь"
   ]
  },
  {
   "cell_type": "code",
   "execution_count": null,
   "metadata": {},
   "outputs": [],
   "source": [
    "a = torch.FloatTensor(2, 3, 4).uniform_().cuda()\n",
    "b = torch.FloatTensor(1, 8, 3).uniform_().cuda()\n",
    "\n",
    "print(a)\n",
    "print(b)\n",
    "\n",
    "c = b.view(2, 3, 4)\n",
    "print(c)\n",
    "\n",
    "a = torch.autograd.Variable(a.cpu(), requires_grad=False)\n",
    "c = torch.autograd.Variable(c.cpu(), requires_grad=True)\n",
    "print(a)\n",
    "print(c)\n",
    "\n",
    "L = torch.mean((c - a) ** 2)\n",
    "L.backward()\n",
    "\n",
    "print(c.grad)"
   ]
  }
 ],
 "metadata": {
  "colab": {
   "name": "[seminar]pytorch_basics.ipynb",
   "provenance": [],
   "version": "0.3.2"
  },
  "kernelspec": {
   "display_name": "Python 3",
   "language": "python",
   "name": "python3"
  },
  "language_info": {
   "codemirror_mode": {
    "name": "ipython",
    "version": 3
   },
   "file_extension": ".py",
   "mimetype": "text/x-python",
   "name": "python",
   "nbconvert_exporter": "python",
   "pygments_lexer": "ipython3",
   "version": "3.8.5"
  }
 },
 "nbformat": 4,
 "nbformat_minor": 1
}
