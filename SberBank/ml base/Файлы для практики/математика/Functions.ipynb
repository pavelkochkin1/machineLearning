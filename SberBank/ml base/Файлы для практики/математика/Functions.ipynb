{
 "cells": [
  {
   "cell_type": "markdown",
   "metadata": {
    "colab_type": "text",
    "id": "AE0UJdFzJd-E"
   },
   "source": [
    "# Функция одной переменной"
   ]
  },
  {
   "cell_type": "markdown",
   "metadata": {
    "colab_type": "text",
    "id": "Q5LuaTTCJd-H"
   },
   "source": [
    "## Определение функции"
   ]
  },
  {
   "cell_type": "markdown",
   "metadata": {
    "colab_type": "text",
    "id": "XV9IEXLaJ2gJ"
   },
   "source": [
    "Пусть $X$ и $Y$ &mdash; два множества. \n",
    "\n",
    "**Функция**, заданная на $X$ со значениями в $Y$ &#150; закон $F$, согласно которому каждому элементу $x \\in X$ поставлен в соответствие единственный элемент $y \\in Y$.\n",
    "\n",
    "Если, согласно функции $F$, элемент y $\\in$ Y соответствует элементу x $\\in$ X, то обозначается:  <br>\n",
    " <br>\n",
    "$y = F(x)$.\n",
    "\n",
    "$y$ является **образом** элемента $x$ при функции $F$, $x$ является **прообразом** элемента $y$ при функции $F$."
   ]
  },
  {
   "cell_type": "markdown",
   "metadata": {
    "colab_type": "text",
    "id": "4ujGp-a8Jd-K"
   },
   "source": [
    "> *Пример #1*:  <br>\n",
    " <br>\n",
    "Функция $F(x) = x + 2$, $x \\in \\mathbb{R}$  <br>\n",
    "$y=4$ есть образ $x=2$ при функции F (y = x + 2, 4 = 2 + 2)  <br>\n",
    "$x=198$ есть прообраз $x=200$ при функции F (y = x + 2, 200 = 198 + 2)"
   ]
  },
  {
   "cell_type": "markdown",
   "metadata": {
    "colab_type": "text",
    "id": "ULMd1tXqJd-N"
   },
   "source": [
    "При записи функции в виде $y = F(x)$ $x$ называется **переменной** или **аргументом функции F**, потому что вместо $x$ мы можем подставлять разные значения (изменять $x$) и получать разные значения $y$.\n",
    "\n",
    "Говоря простыми словами, функция показывает, как изменение величины $y$ зависит от изменения величины $x$.\n",
    "Примером функции из реальной жизни может быть функция зависимости высоты дома от количества этажей в нем:\n",
    "\n",
    "$y = 2*x + 1$ \n",
    "\n",
    "$y$ &mdash; высота дома в метрах <br>\n",
    "$x$ &mdash; количество этажей в доме <br>\n",
    "2 метра высотой каждый этаж и 1 метр высотой фундамент. Поэтому высота дома в метрах &mdash; это количество этажей, умноженное на два плюс один метр фундамента."
   ]
  },
  {
   "cell_type": "markdown",
   "metadata": {
    "colab_type": "text",
    "id": "rJEojfexJd-P"
   },
   "source": [
    "## Область значений и область определения"
   ]
  },
  {
   "cell_type": "markdown",
   "metadata": {
    "colab_type": "text",
    "id": "hGcUpu1mJ4kC"
   },
   "source": [
    "Пусть дана функция $F$, заданная на множестве $X$ со значениями в множестве $Y$.\n",
    "\n",
    "$X$ называется **областью определения** функции $F$, $Y$ называется **областью значений** функции $F$."
   ]
  },
  {
   "cell_type": "markdown",
   "metadata": {
    "colab_type": "text",
    "id": "zz0aN4WiJd-Q"
   },
   "source": [
    "> *Пример #2*:  <br>\n",
    " <br>\n",
    "Функция $F(x) = x + 2$ <br>\n",
    " Область определения F &mdash; все действительные числа. Мы можем взять любое действительное число $x$, подставить в функцию F и получить результат.  <br>\n",
    "Область значения F &mdash; также все действительные числа. Мы можем взять любое действительное число $y$ и найти такое число $x$, что $y = F(x)$."
   ]
  },
  {
   "cell_type": "markdown",
   "metadata": {
    "colab_type": "text",
    "id": "N4OEOh5HJd-S"
   },
   "source": [
    "> *Пример #3*:  <br>\n",
    " <br>\n",
    "Функция $F(x) = x^2$  <br>\n",
    "Область определения F &mdash; все действительные числа. Мы можем взять любое действительное число $x$ и подставить в функцию F.  <br>\n",
    "Область значения F &mdash; все числа, большие 0. Действительно, мы можем взять любое число $y > 0$ и найти такое число $x$, что $y = F(x)$ ($x$ в этом случае будет корнем из $y$). Но ни для какого числа  $y < 0$ не существует такого $x$, что $y = F(x)$ &mdash; иначе $x$ должен быть корнем из $y$, а корней из отрицательных чисел не существует (забудем пока про комплексные числа)."
   ]
  },
  {
   "cell_type": "markdown",
   "metadata": {
    "colab_type": "text",
    "id": "u0zlgAJ_Jd-T"
   },
   "source": [
    "# Исследование функций"
   ]
  },
  {
   "cell_type": "markdown",
   "metadata": {
    "colab_type": "text",
    "id": "ISRJTaddJd-U"
   },
   "source": [
    "## Минимум и максимум функций"
   ]
  },
  {
   "cell_type": "markdown",
   "metadata": {
    "colab_type": "text",
    "id": "tn0BDLoiJd-V"
   },
   "source": [
    "Одна из самых распространенных задач, связанных с функциями &mdash; поиск их минимумов/максимумов. На самом деле, ровно эта задача решается всеми нейронными сетями в процессе обучения =) Сейчас мы поймем, что это значит.\n",
    "\n",
    "Давайте вернемся к множествам $X$ и $Y$ &mdash; области определения и области значений некоторой функции F. Задача **поиска минимума функции** &mdash; найти такое значение переменной $x_{min} \\in X$, что соответствующее ему значение $y_{min} = F(x_{min}) \\in Y$ будет минимально возможным. \n",
    "\n",
    "То есть, для любого другого $x \\in X$, $x \\ne x_{min}$ выполнено: $F(x) \\geq F(x_{min})$\n",
    "\n",
    "$y_{min}$ называется **минимумом функции F**, $x_{min}$ &mdash; **аргминимумом** (минимальным аргументом).\n",
    "\n",
    "Таких минимальных значений аргумента $x_{min} \\in X$ может быть несколько или даже бесконечно &mdash; тогда значения функции для всех этих значений одинаковые &mdash; $y_{min}$. А еще минимальных значений аргумента $x_{min} \\in X$ может вовсе не быть &mdash; в этом случае функция $F$ не имеет минимума.\n",
    "\n",
    "Давайте рассмотрим несколько примеров:"
   ]
  },
  {
   "cell_type": "markdown",
   "metadata": {
    "colab_type": "text",
    "id": "pcBzVQe-Jd-X"
   },
   "source": [
    " > Пример #4 <br>\n",
    " <br>\n",
    " Функция $y = x + 1$ <br>\n",
    " У этой функции нет минимума. Действительно -- допустим, что минимум есть, обозначим его $y_{min}$. Тогда соответствующий аргминимум $x_{min} = y_{min} - 1$. Тогда возьмем значение $x = x_{min}-1$ и подставим в функцию. \n",
    " Получим значение $y = x - 1 = (x_{min}-1)-1 = x_{min}-2 = y_{min}-1 < y_{min}$. Это противоречит тому, что $y_{min}$ -- минимальное значение."
   ]
  },
  {
   "cell_type": "markdown",
   "metadata": {
    "colab_type": "text",
    "id": "zye5sPTnJd-Y"
   },
   "source": [
    " > Пример #5 <br>\n",
    " <br>\n",
    " Функция $y = x^2$ <br>\n",
    " У этой функции минимум в точке 0. Действительно 0 в квадрате это 0. $y < 0$ мы получить не сможем, потому что квадрат любого числа -- неотрицательное число (мы рассматриваем $x \\in \\mathbb{R}$. Значит, меньшее значение функции, чем ноль, мы получить не можем, значит, минимум функции -- 0."
   ]
  },
  {
   "cell_type": "markdown",
   "metadata": {
    "colab_type": "text",
    "id": "VrRePYGIJd-Z"
   },
   "source": [
    "Аналогичным образом, как и минимум, мы можем определить максимум функции и задачу поиска максимума функции. "
   ]
  },
  {
   "cell_type": "markdown",
   "metadata": {
    "colab_type": "text",
    "id": "6hYUXjaFJd-a"
   },
   "source": [
    "## График функции "
   ]
  },
  {
   "cell_type": "markdown",
   "metadata": {
    "colab_type": "text",
    "id": "_g7XZcViJp4S"
   },
   "source": [
    "Рассмотренные нами функции можно графически изображать, часто это оказывается полезно.\n",
    "\n",
    "Для этого вводится понятие **декартовой плоскости** &mdash; это плоскость с двумя выделенными перпендикулярными$^*$ осями OX и OY. <br>\n",
    "По оси OX мы можем откладывать значения переменной $x$, по оси OY &mdash; значения переменной $y$. <br>\n",
    "Ось ОХ обычно горизонтальная, OY &mdash; векртикальная (см последующие примеры)\n",
    "\n",
    "$^*$ перпендикулярные оси (прямые) &mdash; прямые, угол между которыми 90 градусов. <br> "
   ]
  },
  {
   "cell_type": "markdown",
   "metadata": {
    "colab_type": "text",
    "id": "NrmC1zURJd-b"
   },
   "source": [
    " > Пример #6 <br>\n",
    " <br>\n",
    " График функции $y = F(x) = 2x + 1$:"
   ]
  },
  {
   "cell_type": "code",
   "execution_count": 1,
   "metadata": {
    "colab": {},
    "colab_type": "code",
    "id": "6RTz3-n4Jd-e"
   },
   "outputs": [],
   "source": [
    "def F(x):\n",
    "    return 2*x + 1"
   ]
  },
  {
   "cell_type": "code",
   "execution_count": 2,
   "metadata": {
    "colab": {
     "base_uri": "https://localhost:8080/",
     "height": 279
    },
    "colab_type": "code",
    "executionInfo": {
     "elapsed": 2109,
     "status": "ok",
     "timestamp": 1580415209877,
     "user": {
      "displayName": "Татьяна Андреевна Гайнцева",
      "photoUrl": "https://lh3.googleusercontent.com/a-/AAuE7mDUSm2bidz9H6v18nagYGAfBWJwHqXRTr0biU4p=s64",
      "userId": "17554479887788199937"
     },
     "user_tz": -180
    },
    "id": "p2o1K_J-Jd-i",
    "outputId": "46ed3919-0db3-444e-ef25-ebc86e4138da"
   },
   "outputs": [
    {
     "data": {
      "image/png": "[encoded data removed]",
      "text/plain": [
       "<Figure size 432x288 with 1 Axes>"
      ]
     },
     "metadata": {
      "needs_background": "light"
     },
     "output_type": "display_data"
    }
   ],
   "source": [
    "import numpy as np\n",
    "import matplotlib.pyplot as plt\n",
    "\n",
    "def plot_function(f):\n",
    "    x = range(-100, 100)\n",
    "    y = list(map(f, x))\n",
    "\n",
    "    plt.plot(x, y)\n",
    "    plt.ylabel(\"Y\")\n",
    "    plt.xlabel(\"X\")\n",
    "    \n",
    "plot_function(F)"
   ]
  },
  {
   "cell_type": "markdown",
   "metadata": {
    "colab_type": "text",
    "id": "9rwsGzP7Jd-o"
   },
   "source": [
    " > Пример #7 <br>\n",
    " <br>\n",
    " График функции $y = F(x) = x^2$:"
   ]
  },
  {
   "cell_type": "code",
   "execution_count": 3,
   "metadata": {
    "colab": {},
    "colab_type": "code",
    "id": "HM2jPxGNJd-p",
    "outputId": "f2e5e371-1d50-41dd-9d6a-d4837f3a4029"
   },
   "outputs": [
    {
     "data": {
      "image/png": "[encoded data removed]",
      "text/plain": [
       "<Figure size 432x288 with 1 Axes>"
      ]
     },
     "metadata": {
      "needs_background": "light"
     },
     "output_type": "display_data"
    }
   ],
   "source": [
    "def F(x):\n",
    "    return (x+25)**2\n",
    "\n",
    "plot_function(F)"
   ]
  },
  {
   "cell_type": "markdown",
   "metadata": {
    "colab_type": "text",
    "id": "kZJssFMIJd-t"
   },
   "source": [
    "Вы можете сами определить свою функцию $F$ и построить ее график, вызвав plot_function:"
   ]
  },
  {
   "cell_type": "code",
   "execution_count": 0,
   "metadata": {
    "colab": {},
    "colab_type": "code",
    "id": "KmKoW4wQJd-u"
   },
   "outputs": [],
   "source": [
    "def F(x):\n",
    "    return <тут ваш код>\n",
    "\n",
    "plot_function(F)"
   ]
  },
  {
   "cell_type": "markdown",
   "metadata": {
    "colab_type": "text",
    "id": "3nLiCCkOJd-x"
   },
   "source": [
    "По виду графиков функций часто становится понятно, как \"ведет\" себя функция в разных точках и какими свойствами обладает. Например, посмотрите на график функции $y = (x+25)^2$ (см пример #5). Из графика видно, что функция принимает минимальное значени в точке x = -25."
   ]
  },
  {
   "cell_type": "markdown",
   "metadata": {
    "colab_type": "text",
    "id": "oRs74FKQJd-y"
   },
   "source": [
    "## Локальный минимум"
   ]
  },
  {
   "cell_type": "markdown",
   "metadata": {
    "colab_type": "text",
    "id": "GnE-m6tXJuP_"
   },
   "source": [
    "Минимум, который мы рассмотрели выше называется **глобальным минимумом** функции. \"Глобальный\", потому что мы определяли его как \"наименьше значение, которое функция сможет принимать на ВСЕЙ области определения\".\n",
    "\n",
    "Также существует понятие локального минимума. Точка $x_{min}$ &mdash; **локальный минимум** функции $F$, если существует такая величина $\\Delta x > 0$, что значение функции $F$ в любой точке $x \\in [x_{min} - \\Delta x, x_{min} + \\Delta x]$ не меньше значения функции в точке $x_{min}$.\n",
    "\n",
    "Другими словами, если бы мы область определения нашей функции была отрезком $x \\in [x_{min} - \\Delta x, x_{min} + \\Delta x]$, то точка $x_{min}$ была бы глобальным минимумом функции $F$.\n",
    "\n",
    "Точки локальных минимумом и максимумов также называются **точками экстремума**."
   ]
  },
  {
   "cell_type": "markdown",
   "metadata": {
    "colab_type": "text",
    "id": "lHNvD42AJd-z"
   },
   "source": [
    "> Пример #8 <br>\n",
    " <br>\n",
    "Давайте посмотрим на график функции $F(x) = x^4 + 5x^3 - 10x$ на интервале $x \\in[-5, 2]$:"
   ]
  },
  {
   "cell_type": "code",
   "execution_count": 4,
   "metadata": {
    "colab": {
     "base_uri": "https://localhost:8080/",
     "height": 34
    },
    "colab_type": "code",
    "executionInfo": {
     "elapsed": 1867,
     "status": "ok",
     "timestamp": 1580415216734,
     "user": {
      "displayName": "Татьяна Андреевна Гайнцева",
      "photoUrl": "https://lh3.googleusercontent.com/a-/AAuE7mDUSm2bidz9H6v18nagYGAfBWJwHqXRTr0biU4p=s64",
      "userId": "17554479887788199937"
     },
     "user_tz": -180
    },
    "id": "zHKAQBBMFgMn",
    "outputId": "73b11afb-7dda-413b-a889-3b1b2b5ab401"
   },
   "outputs": [
    {
     "data": {
      "text/plain": [
       "(460.02528324, 578.69594721, 662.84106849)"
      ]
     },
     "execution_count": 4,
     "metadata": {},
     "output_type": "execute_result"
    }
   ],
   "source": [
    "F(-3.5518), F(-0.9439), F(0.7457)"
   ]
  },
  {
   "cell_type": "code",
   "execution_count": 5,
   "metadata": {
    "colab": {
     "base_uri": "https://localhost:8080/",
     "height": 296
    },
    "colab_type": "code",
    "executionInfo": {
     "elapsed": 2147,
     "status": "ok",
     "timestamp": 1580415216732,
     "user": {
      "displayName": "Татьяна Андреевна Гайнцева",
      "photoUrl": "https://lh3.googleusercontent.com/a-/AAuE7mDUSm2bidz9H6v18nagYGAfBWJwHqXRTr0biU4p=s64",
      "userId": "17554479887788199937"
     },
     "user_tz": -180
    },
    "id": "fIQfA0n8Jd-1",
    "outputId": "6ba22103-e9ad-464f-9c35-b1794af4eb11"
   },
   "outputs": [
    {
     "data": {
      "text/plain": [
       "<matplotlib.collections.PathCollection at 0x21f85e0d6d0>"
      ]
     },
     "execution_count": 5,
     "metadata": {},
     "output_type": "execute_result"
    },
    {
     "data": {
      "image/png": "[encoded data removed]",
      "text/plain": [
       "<Figure size 432x288 with 1 Axes>"
      ]
     },
     "metadata": {
      "needs_background": "light"
     },
     "output_type": "display_data"
    }
   ],
   "source": [
    "def F(x):\n",
    "    return x**4 + 5*x**3 - 10*x\n",
    "\n",
    "x = np.linspace(-5, 2, 100)\n",
    "y = list(map(F, x))\n",
    "\n",
    "plt.plot(x, y)\n",
    "plt.ylabel(\"Y\")\n",
    "plt.xlabel(\"X\")\n",
    "plt.scatter([-3.5518, -0.9439, 0.7457], [F(-3.5518), F(-0.9439), F(0.7457)])"
   ]
  },
  {
   "cell_type": "markdown",
   "metadata": {
    "colab_type": "text",
    "id": "ugLI1B0CJd-4"
   },
   "source": [
    "> эта функция имеет на отрезке $[-5, 2]$ два локальных минимума &mdash; в точках $x \\sim -3.5518$ и $x \\sim 0.7457$. И также один локальный максимум &mdash; в точке $x \\sim -0.9439$"
   ]
  },
  {
   "cell_type": "markdown",
   "metadata": {
    "colab_type": "text",
    "id": "FsElN_9QJd-5"
   },
   "source": [
    "## Возрастание и убывание функции"
   ]
  },
  {
   "cell_type": "markdown",
   "metadata": {
    "colab_type": "text",
    "id": "DDzKWeIEJd-6"
   },
   "source": [
    "### возрастание и убывание на интервале"
   ]
  },
  {
   "cell_type": "markdown",
   "metadata": {
    "colab_type": "text",
    "id": "1dHUpB_hJd-8"
   },
   "source": [
    "Функция F **возрастает на интервале** $[a, b]$, если для любых двух точек интервала $x_1, x_2 \\in [a, b]$ если $x_2 > x_1$, то $F(x_1) > F(x_2)$. В этом случае функция F **(строго) монотонна** (монотонно возрастает) на интервале $[a, b]$.\n",
    "\n",
    "Также есть смежное понятие: <br>\n",
    "Функция F **неубывает на интервале** $[a, b]$, если для любых двух точек интервала $x_1, x_2 \\in [a, b]$ если $x_2 > x_1$, то $F(x_1) \\geq F(x_2)$. То есть, здесь функция может принимать одинаковые значения в нескольких точках интервала. В этом случае функция F **нестрого монотонна** (нестрого монотонно возрастает) на интервале $[a, b]$.\n",
    "\n",
    "Аналогично определяются **убывающая на интервале** и **невозрастающая на интервале** функции.\n",
    "\n"
   ]
  },
  {
   "cell_type": "markdown",
   "metadata": {
    "colab_type": "text",
    "id": "G-DhHChGJd-9"
   },
   "source": [
    "> Пример #9 <br>\n",
    " <br>\n",
    "Давайте снова посмотрим на график функции из предыдущего примера: <br> $x^4 + 5x^3 - 10x$ на интервале $x \\in[-5, 2]$: "
   ]
  },
  {
   "cell_type": "code",
   "execution_count": 0,
   "metadata": {
    "colab": {},
    "colab_type": "code",
    "id": "Wwxjh14wJd--",
    "outputId": "c128c87d-8419-46ec-ff96-e3b697458233"
   },
   "outputs": [
    {
     "data": {
      "text/plain": [
       "<matplotlib.collections.PathCollection at 0x7f39afdbf400>"
      ]
     },
     "execution_count": 54,
     "metadata": {
      "tags": []
     },
     "output_type": "execute_result"
    },
    {
     "data": {
      "image/png": "[encoded data removed]",
      "text/plain": [
       "<Figure size 432x288 with 1 Axes>"
      ]
     },
     "metadata": {
      "needs_background": "light",
      "tags": []
     },
     "output_type": "display_data"
    }
   ],
   "source": [
    "def F(x):\n",
    "    return x**4 + 5*x**3 - 10*x\n",
    "\n",
    "x = np.linspace(-5, 2, 100)\n",
    "y = list(map(F, x))\n",
    "\n",
    "plt.plot(x, y)\n",
    "plt.ylabel(\"Y\")\n",
    "plt.xlabel(\"X\")\n",
    "plt.scatter([-3.5518, -0.9439, 0.7457], [F(-3.5518), F(-0.9439), F(0.7457)])"
   ]
  },
  {
   "cell_type": "markdown",
   "metadata": {
    "colab_type": "text",
    "id": "9KjwQ_2RJd_A"
   },
   "source": [
    "Эта функция убывает на отрезке $[-5, -3.5518]$, возрастает на $[-3.5518, -0.9439]$, снова убывает на $[-0.9439, 0.7457]$ и снова возрастает на $[0.7457, 2]$."
   ]
  },
  {
   "cell_type": "markdown",
   "metadata": {
    "colab_type": "text",
    "id": "UH_GFIrzJd_B"
   },
   "source": [
    "> Пример #10 <br>\n",
    " <br>\n",
    "Посмотрим на график функции <br>\n",
    "$F(x) = \\left\\{\\begin{array}{l}-x-1, x < -1\\\\x = 0, x \\in [-1, 1] \\\\ x - 1, x > 1\\end{array}\\right.$: "
   ]
  },
  {
   "cell_type": "code",
   "execution_count": 0,
   "metadata": {
    "colab": {},
    "colab_type": "code",
    "id": "-AfDnf3jJd_B",
    "outputId": "593a4a62-600a-4d52-91dd-42e70d9ee08c"
   },
   "outputs": [
    {
     "data": {
      "text/plain": [
       "Text(0.5, 0, 'X')"
      ]
     },
     "execution_count": 58,
     "metadata": {
      "tags": []
     },
     "output_type": "execute_result"
    },
    {
     "data": {
      "image/png": "[encoded data removed]",
      "text/plain": [
       "<Figure size 432x288 with 1 Axes>"
      ]
     },
     "metadata": {
      "needs_background": "light",
      "tags": []
     },
     "output_type": "display_data"
    }
   ],
   "source": [
    "def F(x):\n",
    "    if x < -1:\n",
    "        return -x - 1\n",
    "    elif x < 1:\n",
    "        return 0\n",
    "    else:\n",
    "        return x - 1\n",
    "\n",
    "x = np.linspace(-2, 2, 100)\n",
    "y = list(map(F, x))\n",
    "\n",
    "plt.plot(x, y)\n",
    "plt.ylabel(\"Y\")\n",
    "plt.xlabel(\"X\")"
   ]
  },
  {
   "cell_type": "markdown",
   "metadata": {
    "colab_type": "text",
    "id": "yC5wkUAiJd_E"
   },
   "source": [
    "> Эта функция строго убывает на $[-2, -1]$, нестрого убывает на $[-2, 1]$"
   ]
  },
  {
   "cell_type": "markdown",
   "metadata": {
    "colab_type": "text",
    "id": "VURaA57aJd_F"
   },
   "source": [
    "### возрастание и убывание в точке"
   ]
  },
  {
   "cell_type": "markdown",
   "metadata": {
    "colab_type": "text",
    "id": "zH7mHuqKJd_F"
   },
   "source": [
    "кроме возрастания/убывания функции на определенном интервале также определяется возрастание и убывание функции в точке.\n",
    "\n",
    "Функция $F$ **убывает в точке** $x$, если существует такое число $\\delta x > 0$, что на интервале $[x - \\delta x, x + \\delta x]$ функция F убывает.\n",
    "Аналогично функция $F$ **возрастает в точке** $x$, если существует такое число $\\delta x > 0$, что на интервале $[x - \\delta x, x + \\delta x]$ функция F возрастает.\n",
    "\n",
    "$\\delta x$ может быть сколь угодно маленьким. Давайте рассмотрим примеры:"
   ]
  },
  {
   "cell_type": "markdown",
   "metadata": {
    "colab_type": "text",
    "id": "HLADohROJd_G"
   },
   "source": [
    "> Пример #11 <br>\n",
    " <br>\n",
    "Давайте снова посмотрим на график функции из предыдущих примеров: <br> \n",
    "$x^4 + 5x^3 - 10x$ на интервале $x \\in[-5, 2]$: "
   ]
  },
  {
   "cell_type": "code",
   "execution_count": 0,
   "metadata": {
    "colab": {},
    "colab_type": "code",
    "id": "h8xSuvEsJd_H",
    "outputId": "e9220ec2-34cb-45bd-ea82-39aa0c35c903"
   },
   "outputs": [
    {
     "data": {
      "text/plain": [
       "<matplotlib.collections.PathCollection at 0x7f39af93c208>"
      ]
     },
     "execution_count": 62,
     "metadata": {
      "tags": []
     },
     "output_type": "execute_result"
    },
    {
     "data": {
      "image/png": "[encoded data removed]",
      "text/plain": [
       "<Figure size 432x288 with 1 Axes>"
      ]
     },
     "metadata": {
      "needs_background": "light",
      "tags": []
     },
     "output_type": "display_data"
    }
   ],
   "source": [
    "def F(x):\n",
    "    return x**4 + 5*x**3 - 10*x\n",
    "\n",
    "x = np.linspace(-5, 2, 100)\n",
    "y = list(map(F, x))\n",
    "\n",
    "plt.plot(x, y)\n",
    "plt.ylabel(\"Y\")\n",
    "plt.xlabel(\"X\")\n",
    "plt.scatter([-3.5518, -0.9439, 0.7457], [F(-3.5518), F(-0.9439), F(0.7457)])\n",
    "plt.scatter([-3, -0.8, 1.5], [F(-3), F(-0.8), F(1.5)])"
   ]
  },
  {
   "cell_type": "markdown",
   "metadata": {
    "colab_type": "text",
    "id": "xChVX4GRJd_J"
   },
   "source": [
    " > Синим цветом отмечены точки минимума и максимума (экстремумы) функций. <br>\n",
    "<br>\n",
    "Посмотрим на желтые точки. <br>\n",
    "<br>\n",
    "Функция в первой желтой точке возрастает, во второй &mdash; убывает, в третьей опять возрастает. <br>\n",
    "<br>\n",
    "Вообще, данная функция будет убывать в любой точке интервала (-0.9439, 0.7457)  (интервал между точкой максимума и точкой минимума). Потому что какую бы точку $x$ из этого интервала мы ни взяли, найдутся две точки $x_1$ и $x_2$ такие, что $-0.9439 < x_1 < x$ и $x > x_2 > 0.7457$. На отрезке $[x_1, x_2]$ функция будет убывать, а значит, функция убывает в точке $x$."
   ]
  },
  {
   "cell_type": "markdown",
   "metadata": {
    "colab_type": "text",
    "id": "2ve00piQJd_K"
   },
   "source": [
    "## Непрерывность функции"
   ]
  },
  {
   "cell_type": "markdown",
   "metadata": {
    "colab_type": "text",
    "id": "oJLkchtGJd_L"
   },
   "source": [
    "Пришло время познакомиться с понятием непрерывности функции.\n",
    "\n",
    "Функция F **непрерывна в точке** x, если: <br>\n",
    "1. F определена в точке x\n",
    "2. Для любого числа $\\delta > 0$ можно найти такое $\\Delta x > 0$, что для любой точки $x' \\in [x - \\Delta x, x + \\Delta x]$ выполняется: $|F(x') - F(x)| < \\delta$ <br>\n",
    "($|F|$ означает модуль $F$)\n",
    "\n",
    "Эта запись может показаться сложной, но на самом деле она не очень сложная. Просто прочитайте и вдумайтесь в нее несколько раз. <br>\n",
    "Интуитивно это определение значит, что функция $F$ в точках, близких к $x$, имеет значение, близкое к $F(x)$.\n",
    "\n",
    "Давайте рассмотрим примеры, чтоб окончательно понять значение непрерывности:"
   ]
  },
  {
   "cell_type": "markdown",
   "metadata": {
    "colab_type": "text",
    "id": "GH0_1VUQJd_M"
   },
   "source": [
    "> Пример #12 <br>\n",
    " <br>\n",
    "Давайте снова посмотрим на график функции из предыдущих примеров: <br> \n",
    "$x^4 + 5x^3 - 10x$ на интервале $x \\in[-5, 2]$: "
   ]
  },
  {
   "cell_type": "code",
   "execution_count": 6,
   "metadata": {
    "colab": {},
    "colab_type": "code",
    "id": "RBNGDaMzJd_N",
    "outputId": "b356b371-9762-4c4b-bef2-a32d2ff2097c"
   },
   "outputs": [
    {
     "data": {
      "text/plain": [
       "<matplotlib.collections.PathCollection at 0x21f85d23bb0>"
      ]
     },
     "execution_count": 6,
     "metadata": {},
     "output_type": "execute_result"
    },
    {
     "data": {
      "image/png": "[encoded data removed]",
      "text/plain": [
       "<Figure size 432x288 with 1 Axes>"
      ]
     },
     "metadata": {
      "needs_background": "light"
     },
     "output_type": "display_data"
    }
   ],
   "source": [
    "def F(x):\n",
    "    return x**4 + 5*x**3 - 10*x\n",
    "\n",
    "x = np.linspace(-5, 2, 100)\n",
    "y = list(map(F, x))\n",
    "\n",
    "plt.plot(x, y)\n",
    "plt.ylabel(\"Y\")\n",
    "plt.xlabel(\"X\")\n",
    "plt.scatter([-0.9439], [F(-0.9439)])\n",
    "plt.scatter([2], [F(2)])\n",
    "plt.scatter([-0.5], [F(-0.5)])"
   ]
  },
  {
   "cell_type": "markdown",
   "metadata": {
    "colab_type": "text",
    "id": "yS4vcRkMJd_Q"
   },
   "source": [
    "> посмотрим на синюю точку. В этой точке функция непрерывна &mdash; если мы возьмем оранжевую точке и будем двигать ее по графику функции по направлению к синей точке, то с какого-то момента (например, когда оранжевая точка совпадет с зеленой) при приближении оранжевой точки к синей значение функции в оранжевой точке будет все ближе к значению функции в синей точке, и в конце концов значения функции в синей и оранжевой точках совпадут. <br>\n",
    "<br>\n",
    "Как несложно понять, эта функция непрерывна во всех точках."
   ]
  },
  {
   "cell_type": "markdown",
   "metadata": {
    "colab_type": "text",
    "id": "zvmrkD_TJd_R"
   },
   "source": [
    "> Пример #13 <br>\n",
    " <br>\n",
    "F = $F(x) = \\left\\{\\begin{array}{l}-x, x < -1\\\\x = 0, x \\in [-1, 1] \\\\ x, x > 1\\end{array}\\right.$: "
   ]
  },
  {
   "cell_type": "code",
   "execution_count": 7,
   "metadata": {
    "colab": {},
    "colab_type": "code",
    "id": "i6oE5uo4Jd_S",
    "outputId": "b6ae7517-6dce-4fad-f835-ba9c831e1cf3"
   },
   "outputs": [
    {
     "data": {
      "text/plain": [
       "Text(0.5, 0, 'X')"
      ]
     },
     "execution_count": 7,
     "metadata": {},
     "output_type": "execute_result"
    },
    {
     "data": {
      "image/png": "[encoded data removed]",
      "text/plain": [
       "<Figure size 432x288 with 1 Axes>"
      ]
     },
     "metadata": {
      "needs_background": "light"
     },
     "output_type": "display_data"
    }
   ],
   "source": [
    "x = np.linspace(-2, -1, 100)\n",
    "y = list(map(lambda x: -x, x))\n",
    "plt.plot(x, y, c='b')\n",
    "\n",
    "x = np.linspace(-1, 1, 100)\n",
    "y = list(map(lambda x: 0, x))\n",
    "plt.plot(x, y, c='b')\n",
    "\n",
    "x = np.linspace(1, 2, 100)\n",
    "y = list(map(lambda x: x, x))\n",
    "plt.plot(x, y, c='b')\n",
    "\n",
    "plt.ylabel(\"Y\")\n",
    "plt.xlabel(\"X\")"
   ]
  },
  {
   "cell_type": "markdown",
   "metadata": {
    "colab_type": "text",
    "id": "zYJ-MUoxJd_V"
   },
   "source": [
    "> здесь в точках -1 и 1 функция имеет **разрыв** (не непрерывна). Действительно, возьмем $\\delta =0.5$. Не существует такого $\\Delta x$, что для всех точек $x' \\in [-1 - \\Delta x, -1]$ выполнялось бы $|F(x') - F(-1)| < \\delta$. <br>\n",
    "<br>\n",
    "Во всех остальных точках функция непрерывна."
   ]
  },
  {
   "cell_type": "markdown",
   "metadata": {
    "colab_type": "text",
    "id": "8qd-Pgd2Jd_W"
   },
   "source": [
    "## Предел функции в точке\n",
    "\n"
   ]
  },
  {
   "cell_type": "markdown",
   "metadata": {
    "colab_type": "text",
    "id": "c7n7BUDwJd_X"
   },
   "source": [
    "В этом разделе мы в самых общих чертах, не вдаваясь в подробности, познакомимся с понятиями пределов функции и последовательности."
   ]
  },
  {
   "cell_type": "markdown",
   "metadata": {
    "colab_type": "text",
    "id": "4hhUZmacJd_X"
   },
   "source": [
    "### Предел последовательности"
   ]
  },
  {
   "cell_type": "markdown",
   "metadata": {
    "colab_type": "text",
    "id": "xtd9qTk_Jd_X"
   },
   "source": [
    "Рассмотрим некоторую бесконечную последовательность чисел<br> \n",
    "$x_1, x_2, \\dots, x_n, \\dots$\n",
    "\n",
    "Число $x$ является **пределом последовательности**, если для любого числа $\\delta > 0$ сушествует такой номер $n$, что для любого числа $N > n$ выполняется: $|x - x_N| < \\delta$ <br>\n",
    "Если $x$ является **пределом последовательности**, то говорят, что последовательность **стремится** к $x$.\n",
    "\n",
    "Обозначается стремление так: <br>\n",
    "$x_1, x_2, \\dots, x_n, \\dots,  \\to x$ (последовательность стремится к $x$)\n",
    "\n",
    "То есть, у последовательности есть предел $x$, если для сколь угодно малого числа $\\delta > 0$ можно найти член последовательности такой, что все члены после него ближе к пределу $x$, чем $\\delta$"
   ]
  },
  {
   "cell_type": "markdown",
   "metadata": {
    "colab_type": "text",
    "id": "haqlK3McJd_Y"
   },
   "source": [
    "> Пример #14 <br>\n",
    " <br>\n",
    " Рассмотрим последовательность чисел: <br>\n",
    " $1, \\frac{1}{2}, \\frac{1}{3}, \\frac{1}{4}, \\dots, \\frac{1}{n}, \\dots$ <br>\n",
    " <br>\n",
    " Предел этой последовательности &mdash; число 0. Думаю, вы легко убедитесь в этом сами."
   ]
  },
  {
   "cell_type": "markdown",
   "metadata": {
    "colab_type": "text",
    "id": "0FbmDevVJd_Y"
   },
   "source": [
    "> Пример #15 <br>\n",
    " <br>\n",
    " Рассмотрим последовательность чисел: <br>\n",
    " 1, -2, 3, -4, $\\dots$ <br>\n",
    " <br>\n",
    "У этой последовательности предела не существует."
   ]
  },
  {
   "cell_type": "markdown",
   "metadata": {
    "colab_type": "text",
    "id": "nWushvWwJd_Z"
   },
   "source": [
    "### Предел функции в точке"
   ]
  },
  {
   "cell_type": "markdown",
   "metadata": {
    "colab_type": "text",
    "id": "4XKH0vyEJd_a"
   },
   "source": [
    "С понятием непрерывности функции тесно связано понятие предела функции в точке. \n",
    "\n",
    "Число $y$ является **пределом функции $F$ в точке** $x$, если для любого числа \\delta > 0 можно найти такое $\\Delta x > 0$, что для любой точки $x' \\in [x - \\Delta x, x + \\Delta x]$ выполняется: $|F(x') - y| < \\delta$ <br>"
   ]
  },
  {
   "cell_type": "markdown",
   "metadata": {
    "colab_type": "text",
    "id": "GlZPIW4tJd_a"
   },
   "source": [
    "Очень похоже на определение непрерывности в точке. Отличие в том, что предел функции в точке не обязан совпадать со значением функции в точке. Более того, значения функции в точке $x$, в которой ищется предел, может вообще не существовать.\n",
    "\n",
    "Если же значение в точке $x$ функции $F$ существует, то чаще всего предел функции в точке соврадает со значением функции в этой точке."
   ]
  },
  {
   "cell_type": "markdown",
   "metadata": {
    "colab_type": "text",
    "id": "ppCuQvRFJd_b"
   },
   "source": [
    "Интуитивно определение предела функции в точке можно понимать так: <br>\n",
    "Допустим, мы хотим найти предел функции $F$ в точке $x$. Построим последовательность точек $x_1, x_2, \\dots$, стремящуюся к $x$. Значения функции в точках этой последовательности также образуют последовательность:\n",
    "$F(x_1), F(x_2), \\dots$. Если у последовательности значений функций есть предел $y$, то он является пределом функции в точке $x$.\n",
    "\n",
    "Обозначается $F(x_i) \\to y при x_i \\to x$ (значение функции стремится к $y$ при значениях аргемента, стремящихся к $x$)"
   ]
  },
  {
   "cell_type": "markdown",
   "metadata": {
    "colab_type": "text",
    "id": "fwYE8BPuJd_b"
   },
   "source": [
    "> Пример #16 <br>\n",
    " <br>\n",
    "    У непрерывной функции существует редел в любой точке и он равен значению функции в этой точке."
   ]
  },
  {
   "cell_type": "markdown",
   "metadata": {
    "colab_type": "text",
    "id": "dCydmYhAJd_c"
   },
   "source": [
    "> Пример #17 <br>\n",
    " <br>\n",
    " Пример функции, которая не непрерывна в точке 0, но имеет в точке 0 предел, равный 0: <br>\n",
    " F = $F(x) = \\left\\{\\begin{array}{l}-x, x < -0\\\\x = 1, x = 0 \\\\ x, x > 0\\end{array}\\right.$: "
   ]
  },
  {
   "cell_type": "code",
   "execution_count": 0,
   "metadata": {
    "colab": {},
    "colab_type": "code",
    "id": "ZClCOf-RJd_d",
    "outputId": "c762e2c3-2d27-48c7-cf37-0853d6e01e01"
   },
   "outputs": [
    {
     "data": {
      "text/plain": [
       "Text(0.5, 0, 'X')"
      ]
     },
     "execution_count": 78,
     "metadata": {
      "tags": []
     },
     "output_type": "execute_result"
    },
    {
     "data": {
      "image/png": "[encoded data removed]",
      "text/plain": [
       "<Figure size 432x288 with 1 Axes>"
      ]
     },
     "metadata": {
      "needs_background": "light",
      "tags": []
     },
     "output_type": "display_data"
    }
   ],
   "source": [
    "x = np.linspace(-2, 0, 100)\n",
    "y = list(map(lambda x: -x, x))\n",
    "plt.plot(x, y, c='b')\n",
    "\n",
    "plt.scatter(0, 1, c='b')\n",
    "\n",
    "x = np.linspace(0, 2, 100)\n",
    "y = list(map(lambda x: x, x))\n",
    "plt.plot(x, y, c='b')\n",
    "\n",
    "plt.ylabel(\"Y\")\n",
    "plt.xlabel(\"X\")"
   ]
  },
  {
   "cell_type": "markdown",
   "metadata": {
    "colab_type": "text",
    "id": "MUb8P1X9Jd_f"
   },
   "source": [
    "В этом разделе мы познакомились с понятиями пределов последовательности и функции. Эти понятия пригодятся нам в другом ноутбуке, посвященном производным. Более детальное изучение выходит за рамки данного материала."
   ]
  },
  {
   "cell_type": "markdown",
   "metadata": {
    "colab_type": "text",
    "id": "c3qquhmTJd_f"
   },
   "source": [
    "# Функции многих переменных"
   ]
  },
  {
   "cell_type": "markdown",
   "metadata": {
    "colab_type": "text",
    "id": "GhV2iHFZJd_g"
   },
   "source": [
    "Выше мы рассмотрели функции, которые отображают одну переменную $x$ в одну переменную $y$. Теперь рассмотрим функции, которые отображают несколько переменных $x_1, x_2, \\dots$ в одну переменную $y$."
   ]
  },
  {
   "cell_type": "markdown",
   "metadata": {
    "colab_type": "text",
    "id": "FO_L3f5vJd_h"
   },
   "source": [
    "В самом начале ноутбука в примере с высотой дома мы рассматривали функцию зависимости высоты дома от одной переменной -- количества этажей в доме. Высоту одного этажа мы принимали за константу, поэтому наша функция выглядела так:\n",
    "\n",
    "$F(x) = 2x+1$\n",
    "\n",
    "где $x$ &mdash; количество этажей,<br> 2 &mdash; высота одного этажа,<br> 1 &mdash; высота фундамента,<br> $F(x)$ &mdash; итоговая высота дома."
   ]
  },
  {
   "cell_type": "markdown",
   "metadata": {
    "colab_type": "text",
    "id": "pbLeyN0GJd_i"
   },
   "source": [
    "Но мы понимаем, что в реальной жизни дома бывают разные и высота одного этажа во дворце и в жилой хрущевке может отличаться. То есть, высота одного этажа &mdash; это тоже переменная величина. Давайте отразим этой. внашей функции высоты дома:"
   ]
  },
  {
   "cell_type": "markdown",
   "metadata": {
    "colab_type": "text",
    "id": "sldofhleJd_i"
   },
   "source": [
    "$F(x) = yx+1$\n",
    "\n",
    "где $x$ &mdash; количество этажей,<br> $y$ &mdash; высота одного этажа,<br> 1 &mdash; высота фундамента,<br> $F(x)$ &mdash; итоговая высота дома."
   ]
  },
  {
   "cell_type": "markdown",
   "metadata": {
    "colab_type": "text",
    "id": "G0Ci4bwoJd_k"
   },
   "source": [
    "Теперь это функция с **двумя переменными**. Мы можем изменять значения $x$ и $y$, подставлять их в функцию и получать разные значения.\n",
    "\n",
    "Точно так же можно сделать переменной и высоту фундамента &mdash; функция пример вид:\n",
    "\n",
    "$F(x) = yx+z$\n",
    "\n",
    "где $x$ &mdash; количество этажей,<br> $y$ &mdash; высота одного этажа,<br> $z$ &mdash; высота фундамента,<br> $F(x)$ &mdash; итоговая высота дома.\n",
    "\n",
    "...и будет уже функцией от трех переменных."
   ]
  },
  {
   "cell_type": "markdown",
   "metadata": {
    "colab_type": "text",
    "id": "uvy9yDr_Jd_m"
   },
   "source": [
    "Понятно, что функции бывают от скольки угодно переменных. И чаще всего в жизни встречаются функции от довольно большого числа переменных. Например, нейронная сеть &mdash; это функция от тысяч или даже миллионов параметров."
   ]
  },
  {
   "cell_type": "markdown",
   "metadata": {
    "colab_type": "text",
    "id": "T_og3llPJd_m"
   },
   "source": [
    "> Пример #18 <br>\n",
    " <br>\n",
    " Функции двух переменных тоже можно рисовать &mdash; они представляют собой трехмерную поверхность (задаваемую двумя переменным и значениями функции). <br>\n",
    "  <br>\n",
    " Функции с тремя и более переменными, к сожалению, изобразить нельзя (они соответствуют 4-хмерной и еще более многомерным телам, а мы живем в трехмерном мире, эх)"
   ]
  },
  {
   "cell_type": "code",
   "execution_count": 0,
   "metadata": {
    "colab": {},
    "colab_type": "code",
    "id": "xWrl4Vr8Jd_n",
    "outputId": "e6644721-1ff7-491a-f559-252c54ec40bb"
   },
   "outputs": [
    {
     "data": {
      "image/png": "[encoded data removed]",
      "text/plain": [
       "<Figure size 432x288 with 1 Axes>"
      ]
     },
     "metadata": {
      "needs_background": "light",
      "tags": []
     },
     "output_type": "display_data"
    }
   ],
   "source": [
    "from mpl_toolkits.mplot3d import Axes3D\n",
    "import matplotlib.pyplot as plt\n",
    "from matplotlib import cm\n",
    "from matplotlib.ticker import LinearLocator, FormatStrFormatter\n",
    "import numpy as np\n",
    "\n",
    "\n",
    "fig = plt.figure()\n",
    "ax = fig.gca(projection='3d')\n",
    "\n",
    "# Make data.\n",
    "X = np.arange(-5, 5, 0.25)\n",
    "Y = np.arange(-5, 5, 0.25)\n",
    "X, Y = np.meshgrid(X, Y)\n",
    "R = np.sqrt(X**2 + Y**2)\n",
    "Z = np.sin(R)\n",
    "\n",
    "# Plot the surface.\n",
    "surf = ax.plot_surface(X, Y, Z,\n",
    "                       linewidth=0, antialiased=False)\n",
    "\n",
    "# Customize the z axis.\n",
    "ax.set_zlim(-1.01, 1.01)\n",
    "ax.zaxis.set_major_locator(LinearLocator(10))\n",
    "ax.zaxis.set_major_formatter(FormatStrFormatter('%.02f'))\n",
    "\n",
    "plt.show()"
   ]
  },
  {
   "cell_type": "markdown",
   "metadata": {
    "colab_type": "text",
    "id": "dBk2xqiSJd_p"
   },
   "source": [
    "Как же с такими функциями работать? На самом деле, точно так же, как и с функциями одной переменной:"
   ]
  },
  {
   "cell_type": "markdown",
   "metadata": {
    "colab_type": "text",
    "id": "FWZVLil6Jd_p"
   },
   "source": [
    "### Область значений и область определения функции многих переменных"
   ]
  },
  {
   "cell_type": "markdown",
   "metadata": {
    "colab_type": "text",
    "id": "O7_jMtbFJd_q"
   },
   "source": [
    "Рассмотрим функцию с двумя переменными:\n",
    "\n",
    "$F(x_1, x_2) = \\sqrt{x_1} + x_2 $\n",
    "\n",
    "Так как мы работаем только с действительными числами ($\\mathbb{R}$), то переменная $x_1$ может принимать только положительные значения, т.е. определена на $\\mathbb{R_+}$. Переменная же $x_2$ может принимать любые значения на $\\mathbb{R}$. \n",
    "Обозначается область определения функции с двумя переменными так:\n",
    "\n",
    "$\\mathbb{R_+} \\times \\mathbb{R}$\n",
    "\n",
    "Область значения нашей функции &mdash; $\\mathbb{R}$. Итого функция \n",
    "\n",
    "$F: \\mathbb{R_+} \\times \\mathbb{R} \\to \\mathbb{R}$ "
   ]
  },
  {
   "cell_type": "markdown",
   "metadata": {
    "colab_type": "text",
    "id": "Nx9zzWHWJd_r"
   },
   "source": [
    "### Исследование функций многих переменных"
   ]
  },
  {
   "cell_type": "markdown",
   "metadata": {
    "colab_type": "text",
    "id": "GZLCXO51Jd_r"
   },
   "source": [
    "В разделе про исследования функций многих переменных мы говорили про поиски минимума/максимума, возрастание/убывание функции и непрерывность. Эти понятия легко обобщаются на функции многих переменных:\n",
    "\n",
    "Рассмотрим функцию $n$ переменныx $F(x_1, x_2, \\dots, x_n)$."
   ]
  },
  {
   "cell_type": "markdown",
   "metadata": {
    "colab_type": "text",
    "id": "l47r5FTRJd_r"
   },
   "source": [
    "1. **Минимум и максимум**:\n",
    "\n",
    "Задача поиска минимумов (как локальных, так и глобальных) в случае функции многих переменных ставится так же, как и в случае функции одной переменной: нужно найти такое значение аргумента (аргументов), что соответствубщее значение функции минимально/максимально.\n",
    "\n",
    "То есть, в случае функции $F$ нам надо найти такие $x_1, x_2, \\dots, x_n$, что $F(x_1, x_2, \\dots, x_n)$ минимально/максимально.\n",
    "\n",
    "2. **Возрастание и убывание функции**\n",
    "\n",
    "Рассмотрим некоторую фиксированную \"точку\" &mdash; набор параметров $(x'_1, x'_2, \\dots, x'_n)$. В случае функции многих переменных мы не можем сказать, возрастает или убывает функция $F$ в этой точке, потому что при изменении разных переменных функция может вести себя по разному.\n",
    "\n",
    "Другими словами: давайте зафиксируем все координаты $x'_2, \\dots, x'_n$ и будем изменять только $x_1$. Мы как бы получим функцию одной переменной &mdash; так как мы зафиксировали $x'_2, \\dots, x'_n$, то их мы модем считать константами. И вот функция одной переменной в точке $x'_1$ может возрастать, убывать или вообще иметь экстремум.\n",
    "\n",
    "Теперь сделаем то же самое, только завиксируем все координаты, кроме второй. Менять будем только $x_2$. Опять получим функцию одной переменной, но уже другую, не как при изменении $x_1$. Опять же, в точке $x'_2$ эта функция может возрастать, убывать или вообще иметь экстремум.\n",
    "\n",
    "Аналогично со всеми остальными координатами. Получается, что, находясь в одной точке $(x'_1, x'_2, \\dots, x'_n)$, функция может вырасти при изменении одной координаты и уменьшиться при изменении другой. Поэтому определение возрастания/удывания функции многих переменных в точке определено только **покоординатно**. \n",
    "\n",
    "3. **Непрерывность и предел**\n",
    " Здесь ситуация схожа с первым пунктом: понятие непрерывности и предела очень просто обобщается на функцию многих переменных. \n",
    " \n",
    " Вспомним определение непрерывности для функции одной переменной:\n",
    " \n",
    " Функция F **непрерывна в точке** x, если: <br>\n",
    "    1. F определена в точке x\n",
    "    2. Для любого числа $\\delta$ > 0 можно найти такое $\\Delta x > 0$, что для любой точки $x' \\in [x - \\Delta x, x + \\Delta x]$ выполняется: $|F(x') - F(x)| < \\delta$ <br>\n",
    "\n",
    "Для непрерывности функции многих переменных остается сказать, что пункт B должен выполняться по каждой координате функции.\n",
    "Это значит, что мы у функции $F(x_1, x_2, \\dots, x_n)$ фиксируем все координаты, кроме одной, и для полученной функции одной переменной должно выполняться условие непрерывности."
   ]
  },
  {
   "cell_type": "markdown",
   "metadata": {
    "colab_type": "text",
    "id": "SSboPhEoJd_s"
   },
   "source": [
    "# Примеры функций в реальной жизни\n",
    "\n",
    "\n"
   ]
  },
  {
   "cell_type": "markdown",
   "metadata": {
    "colab_type": "text",
    "id": "rmJR35-BJxuP"
   },
   "source": [
    "Для того, чтобы понимать, что функции присутствуют практически везде в нашей жизни, приведем несколько примеров:\n",
    "\n",
    "Давайте рассмотрим несколько примеров функций из экономики и финансов:"
   ]
  },
  {
   "cell_type": "markdown",
   "metadata": {
    "colab_type": "text",
    "id": "0ndyk2HyJd_s"
   },
   "source": [
    " > Пример #19 <br>\n",
    " <br>\n",
    " Функция спроса. <br>\n",
    " Допустим, мы торгуем определенным товаром, например, толстовками. Обозначим за Q количество купленного товара, за P -- цену одной кдиницы товара. Тогда функция спроса в нашем случае может выглядеть так: <br>\n",
    " $Q = 7 - P$ <br>\n",
    " $Q$ и $P$ здесь -- переменные ( как $x$ и $y$ в предыдущих примерах)"
   ]
  },
  {
   "cell_type": "markdown",
   "metadata": {
    "colab_type": "text",
    "id": "S2HLYbXHJd_t"
   },
   "source": [
    " > Пример #20 <br>\n",
    " <br>\n",
    " Расчет излишка потребителя. <br>\n",
    " Формула расчета излишка потребителя выглядит так: <br>\n",
    " $S_{PEP1} = [(P_1 – P) \\times Q] / 2$ <br>\n",
    " Здесь $S_{PEP1}$ &mdash; излишек покупателя, <br>\n",
    " $P_1$ &mdash; цена спроса, <br>\n",
    " $P$ &mdash; рыночная цена, <br>\n",
    " $Q$ &mdash; объем продаж. <br>\n",
    " <br>\n",
    " Это функция 3 переменных."
   ]
  },
  {
   "cell_type": "markdown",
   "metadata": {
    "colab_type": "text",
    "id": "bz28vZabJd_u"
   },
   "source": [
    " > Пример #21 <br>\n",
    " <br>\n",
    " Функция зависимости скорости тела от времени (из физики): <br>\n",
    " $v = v_0 + at$, <br>\n",
    " $v$ &mdash; скорость, <br>\n",
    " $v_0$ &mdash; начальная скорость, <br>\n",
    " $a$ &mdash; ускорение, <br>\n",
    " $t$ &mdash; время."
   ]
  },
  {
   "cell_type": "code",
   "execution_count": 0,
   "metadata": {
    "colab": {},
    "colab_type": "code",
    "id": "9CpSHO6aJd_u"
   },
   "outputs": [],
   "source": []
  }
 ],
 "metadata": {
  "colab": {
   "collapsed_sections": [
    "Q5LuaTTCJd-H",
    "rJEojfexJd-P",
    "u0zlgAJ_Jd-T",
    "ISRJTaddJd-U",
    "6hYUXjaFJd-a",
    "oRs74FKQJd-y",
    "FsElN_9QJd-5",
    "DDzKWeIEJd-6",
    "VURaA57aJd_F",
    "2ve00piQJd_K",
    "8qd-Pgd2Jd_W",
    "4hhUZmacJd_X",
    "nWushvWwJd_Z",
    "c3qquhmTJd_f",
    "FWZVLil6Jd_p",
    "Nx9zzWHWJd_r",
    "SSboPhEoJd_s"
   ],
   "name": "Functions.ipynb",
   "provenance": [],
   "toc_visible": true
  },
  "kernelspec": {
   "display_name": "Python 3",
   "language": "python",
   "name": "python3"
  },
  "language_info": {
   "codemirror_mode": {
    "name": "ipython",
    "version": 3
   },
   "file_extension": ".py",
   "mimetype": "text/x-python",
   "name": "python",
   "nbconvert_exporter": "python",
   "pygments_lexer": "ipython3",
   "version": "3.8.5"
  }
 },
 "nbformat": 4,
 "nbformat_minor": 1
}
